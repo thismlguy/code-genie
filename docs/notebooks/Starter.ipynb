{
 "cells": [
  {
   "cell_type": "code",
   "execution_count": 1,
   "id": "7d9eda1b-110d-4a01-a3b9-57fcb5cd724f",
   "metadata": {},
   "outputs": [],
   "source": [
    "%load_ext autoreload\n",
    "%autoreload 2"
   ]
  },
  {
   "cell_type": "markdown",
   "id": "260d5faf-d4ea-4924-8623-af9ab1544598",
   "metadata": {},
   "source": [
    "# Starter Notebook\n",
    "\n",
    "Use this notebook as a starting point for using the library."
   ]
  },
  {
   "cell_type": "markdown",
   "id": "689a2a37-b0f1-4c0a-afe7-5252f5ccca3e",
   "metadata": {},
   "source": [
    "## setup access token\n",
    "\n",
    "Don't have an access token yet? [Sign up for free!](https://www.thismlguy.com/)\n",
    "\n",
    "We're using dotenv library here, alternatively you can simply set the environment variable as:\n",
    "```\n",
    "import os\n",
    "os.environ[\"CODE_GENIE_TOKEN\"] = \"your-access-token-here\"\n",
    "```\n",
    "\n",
    "Though it is not recommended to do so as notebooks are typically shared with others and you should keep your access token private."
   ]
  },
  {
   "cell_type": "code",
   "execution_count": 2,
   "id": "80d6cc0e-f2ae-45b6-ab12-dd9362486ffc",
   "metadata": {},
   "outputs": [],
   "source": [
    "from dotenv import load_dotenv"
   ]
  },
  {
   "cell_type": "code",
   "execution_count": 3,
   "id": "4b78c990-5256-434b-9bcb-78bd1374fc6a",
   "metadata": {},
   "outputs": [
    {
     "data": {
      "text/plain": [
       "True"
      ]
     },
     "execution_count": 3,
     "metadata": {},
     "output_type": "execute_result"
    }
   ],
   "source": [
    "load_dotenv(\"../../.env\")  # replace with path to your env file"
   ]
  },
  {
   "cell_type": "markdown",
   "id": "d450035c-7bb4-47e9-b876-8e3564c0a003",
   "metadata": {},
   "source": [
    "## setup cache\n",
    "\n",
    "By default the package will cache genie invocations in a temp file. This would mean that any genies created will be lost once you restart the kernel or rerun the notebook at another time. to keep the cached genies, you can set a custom path where genies would be stored so that you will not lose them when you rerun the notebook.\n",
    "\n",
    "You can modify the cached code if you'd like and those modifications would be loaded the next time you run the code."
   ]
  },
  {
   "cell_type": "code",
   "execution_count": 4,
   "id": "8a18da38-ec68-4ecc-95bc-58c8ecdfda51",
   "metadata": {},
   "outputs": [],
   "source": [
    "CACHE_DIR = \"./_cache_starter\""
   ]
  },
  {
   "cell_type": "markdown",
   "id": "b3dc2f0a-ca73-41e8-9a50-0672d1a58bc7",
   "metadata": {},
   "source": [
    "## Create data\n",
    "\n",
    "while you should import your own dataset, we can use code-genie to generate the data for this analysis"
   ]
  },
  {
   "cell_type": "code",
   "execution_count": 5,
   "id": "d5bfbd38-e760-468b-8d14-11d18f183da8",
   "metadata": {},
   "outputs": [],
   "source": [
    "from code_genie import Genie"
   ]
  },
  {
   "cell_type": "code",
   "execution_count": 6,
   "id": "91de25d6-84dd-4019-bfd9-60fe3582d169",
   "metadata": {},
   "outputs": [
    {
     "name": "stdout",
     "output_type": "stream",
     "text": [
      "Genie cached with id: generate_employee_dataframe_16305\n"
     ]
    }
   ],
   "source": [
    "df = Genie(cache_dir=CACHE_DIR).plz(\n",
    "    [\"generate a pandas dataframe containing 100 rows with employee information with following columns id, name, salary (salary per annum in USD), department (should be either engineering or product)\", \n",
    "     \"make salaries for around 10% of the employees missing\"], override=True)"
   ]
  },
  {
   "cell_type": "code",
   "execution_count": 7,
   "id": "e7f67149-b53f-4c7f-9b4b-fc7e1972391f",
   "metadata": {},
   "outputs": [
    {
     "data": {
      "text/plain": [
       "(100, 4)"
      ]
     },
     "execution_count": 7,
     "metadata": {},
     "output_type": "execute_result"
    }
   ],
   "source": [
    "df.shape"
   ]
  },
  {
   "cell_type": "code",
   "execution_count": 8,
   "id": "9c4897c3-19f0-41ba-80c1-57b2b5aef90d",
   "metadata": {},
   "outputs": [
    {
     "data": {
      "text/html": [
       "<div>\n",
       "<style scoped>\n",
       "    .dataframe tbody tr th:only-of-type {\n",
       "        vertical-align: middle;\n",
       "    }\n",
       "\n",
       "    .dataframe tbody tr th {\n",
       "        vertical-align: top;\n",
       "    }\n",
       "\n",
       "    .dataframe thead th {\n",
       "        text-align: right;\n",
       "    }\n",
       "</style>\n",
       "<table border=\"1\" class=\"dataframe\">\n",
       "  <thead>\n",
       "    <tr style=\"text-align: right;\">\n",
       "      <th></th>\n",
       "      <th>id</th>\n",
       "      <th>name</th>\n",
       "      <th>salary</th>\n",
       "      <th>department</th>\n",
       "    </tr>\n",
       "  </thead>\n",
       "  <tbody>\n",
       "    <tr>\n",
       "      <th>0</th>\n",
       "      <td>1</td>\n",
       "      <td>Employee_1</td>\n",
       "      <td>49669.0</td>\n",
       "      <td>product</td>\n",
       "    </tr>\n",
       "    <tr>\n",
       "      <th>1</th>\n",
       "      <td>2</td>\n",
       "      <td>Employee_2</td>\n",
       "      <td>115165.0</td>\n",
       "      <td>engineering</td>\n",
       "    </tr>\n",
       "    <tr>\n",
       "      <th>2</th>\n",
       "      <td>3</td>\n",
       "      <td>Employee_3</td>\n",
       "      <td>NaN</td>\n",
       "      <td>product</td>\n",
       "    </tr>\n",
       "    <tr>\n",
       "      <th>3</th>\n",
       "      <td>4</td>\n",
       "      <td>Employee_4</td>\n",
       "      <td>86308.0</td>\n",
       "      <td>engineering</td>\n",
       "    </tr>\n",
       "    <tr>\n",
       "      <th>4</th>\n",
       "      <td>5</td>\n",
       "      <td>Employee_5</td>\n",
       "      <td>52598.0</td>\n",
       "      <td>product</td>\n",
       "    </tr>\n",
       "  </tbody>\n",
       "</table>\n",
       "</div>"
      ],
      "text/plain": [
       "   id        name    salary   department\n",
       "0   1  Employee_1   49669.0      product\n",
       "1   2  Employee_2  115165.0  engineering\n",
       "2   3  Employee_3       NaN      product\n",
       "3   4  Employee_4   86308.0  engineering\n",
       "4   5  Employee_5   52598.0      product"
      ]
     },
     "execution_count": 8,
     "metadata": {},
     "output_type": "execute_result"
    }
   ],
   "source": [
    "df.head()"
   ]
  },
  {
   "cell_type": "code",
   "execution_count": 9,
   "id": "5d223450-bc51-4060-94eb-0301f850a106",
   "metadata": {},
   "outputs": [],
   "source": [
    "# create genie instance on this df\n",
    "genie = Genie(inputs={\"df\": df}, cache_dir=CACHE_DIR)"
   ]
  },
  {
   "cell_type": "markdown",
   "id": "228545bc-062d-4129-9003-15cac860e7bf",
   "metadata": {},
   "source": [
    "## Analyze data"
   ]
  },
  {
   "cell_type": "markdown",
   "id": "ab7cf12a-5fe0-418b-899e-905bb3288ccd",
   "metadata": {},
   "source": [
    "### find number of missing values in each column"
   ]
  },
  {
   "cell_type": "code",
   "execution_count": 10,
   "id": "934df451-afaf-458c-a36c-a0c0277969b2",
   "metadata": {},
   "outputs": [
    {
     "name": "stdout",
     "output_type": "stream",
     "text": [
      "Genie cached with id: count_missing_values_57234\n"
     ]
    },
    {
     "data": {
      "text/plain": [
       "id             0\n",
       "name           0\n",
       "salary        10\n",
       "department     0\n",
       "dtype: int64"
      ]
     },
     "execution_count": 10,
     "metadata": {},
     "output_type": "execute_result"
    }
   ],
   "source": [
    "genie.plz(\"find number of missing values in each column\")"
   ]
  },
  {
   "cell_type": "markdown",
   "id": "4fb0ba20-a031-452e-a989-7e9a32c62ef8",
   "metadata": {},
   "source": [
    "### plot distribution of salary"
   ]
  },
  {
   "cell_type": "code",
   "execution_count": 11,
   "id": "2b9d7bf3-1638-41e9-a44f-a138f1b4294e",
   "metadata": {},
   "outputs": [
    {
     "name": "stdout",
     "output_type": "stream",
     "text": [
      "Genie cached with id: plot_salary_distribution_88606\n"
     ]
    },
    {
     "data": {
      "image/png": "[encoded data removed]",
      "text/plain": [
       "<Figure size 640x480 with 1 Axes>"
      ]
     },
     "metadata": {},
     "output_type": "display_data"
    }
   ],
   "source": [
    "genie.plz(\"plot distribution of salary, create bins of 10K each, ignore missing values\")"
   ]
  },
  {
   "cell_type": "code",
   "execution_count": 12,
   "id": "45559024-5905-43df-a021-19a2d0b77dff",
   "metadata": {},
   "outputs": [
    {
     "name": "stdout",
     "output_type": "stream",
     "text": [
      "Genie cached with id: plot_salary_by_department_20090\n"
     ]
    },
    {
     "data": {
      "image/png": "[encoded data removed]",
      "text/plain": [
       "<Figure size 640x480 with 1 Axes>"
      ]
     },
     "metadata": {},
     "output_type": "display_data"
    }
   ],
   "source": [
    "genie.plz(\"make boxplots of salary grouped by department\")"
   ]
  },
  {
   "cell_type": "code",
   "execution_count": 13,
   "id": "538ddd26-4b79-4251-9f40-d8a8fc57673f",
   "metadata": {},
   "outputs": [
    {
     "name": "stdout",
     "output_type": "stream",
     "text": [
      "Genie cached with id: high_earners_26869\n"
     ]
    },
    {
     "data": {
      "text/plain": [
       "department\n",
       "engineering    18\n",
       "product        11\n",
       "dtype: int64"
      ]
     },
     "execution_count": 13,
     "metadata": {},
     "output_type": "execute_result"
    }
   ],
   "source": [
    "genie.plz(\"how many people in each department make more than 100K?\")"
   ]
  },
  {
   "cell_type": "markdown",
   "id": "c28b9343-8f96-4d99-a664-f7035a237ace",
   "metadata": {},
   "source": [
    "# Inspecting Code\n",
    "\n",
    "All the genies export the generated code to the cache_dir path under individual py files. The exact name of the file used can be found in the log generated on execution. These could be of 2 types:\n",
    "\n",
    "1. `Genie cached with id: high_earners_19109.py`: this will be shown the first time we run this\n",
    "2. `Loading cached genie id: generate_employee_df_56623.py, set override = True to rerun`: this will be shown when we run the genie after its cached without setting `override=True`\n",
    "\n",
    "all cached py files for the starter notebook can be found [here](https://github.com/thismlguy/code-genie/tree/main/docs/notebooks/_cache_starter)"
   ]
  },
  {
   "cell_type": "code",
   "execution_count": 14,
   "id": "4c5898dd-a521-4ea2-893f-955540979c81",
   "metadata": {},
   "outputs": [],
   "source": [
    "# you can read all cached code using the command:\n",
    "cache = genie.read_cache()"
   ]
  },
  {
   "cell_type": "code",
   "execution_count": 15,
   "id": "a2adb6e0-6448-45aa-9b29-e5e7e5a7a021",
   "metadata": {},
   "outputs": [
    {
     "data": {
      "text/plain": [
       "dict_keys(['generate_employee_dataframe_16305', 'count_missing_values_57234', 'plot_salary_distribution_88606', 'plot_salary_by_department_20090', 'high_earners_26869'])"
      ]
     },
     "execution_count": 15,
     "metadata": {},
     "output_type": "execute_result"
    }
   ],
   "source": [
    "# these are all the cached genies available\n",
    "cache.keys()"
   ]
  },
  {
   "cell_type": "code",
   "execution_count": 16,
   "id": "b09e7679-9cc2-4b21-9d00-726a6035f570",
   "metadata": {},
   "outputs": [
    {
     "name": "stdout",
     "output_type": "stream",
     "text": [
      "def high_earners(df):\n",
      "    high_earners_df = df[df['salary'] > 100000]\n",
      "    return high_earners_df.groupby('department').size()\n"
     ]
    }
   ],
   "source": [
    "# lets read one of them\n",
    "print(cache[\"high_earners_26869\"])"
   ]
  },
  {
   "cell_type": "code",
   "execution_count": null,
   "id": "d6509530-b02e-434a-bb7c-dca49025d0b3",
   "metadata": {},
   "outputs": [],
   "source": []
  }
 ],
 "metadata": {
  "kernelspec": {
   "display_name": "code-genie",
   "language": "python",
   "name": "code-genie"
  },
  "language_info": {
   "codemirror_mode": {
    "name": "ipython",
    "version": 3
   },
   "file_extension": ".py",
   "mimetype": "text/x-python",
   "name": "python",
   "nbconvert_exporter": "python",
   "pygments_lexer": "ipython3",
   "version": "3.7.9"
  }
 },
 "nbformat": 4,
 "nbformat_minor": 5
}
