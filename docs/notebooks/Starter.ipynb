{
 "cells": [
  {
   "cell_type": "code",
   "execution_count": 1,
   "id": "7d9eda1b-110d-4a01-a3b9-57fcb5cd724f",
   "metadata": {},
   "outputs": [],
   "source": [
    "%load_ext autoreload\n",
    "%autoreload 2"
   ]
  },
  {
   "cell_type": "markdown",
   "id": "260d5faf-d4ea-4924-8623-af9ab1544598",
   "metadata": {},
   "source": [
    "# Starter Notebook\n",
    "\n",
    "Use this notebook as a starting point for using the library."
   ]
  },
  {
   "cell_type": "markdown",
   "id": "689a2a37-b0f1-4c0a-afe7-5252f5ccca3e",
   "metadata": {},
   "source": [
    "## setup access token\n",
    "\n",
    "Don't have an access token yet? [Sign up for free!](https://www.thismlguy.com/)\n",
    "\n",
    "We're using dotenv library here, alternatively you can simply set the environment variable as:\n",
    "```\n",
    "import os\n",
    "os.environ[\"CODE_GENIE_TOKEN\"] = \"your-access-token-here\"\n",
    "```\n",
    "\n",
    "Though it is not recommended to do so as notebooks are typically shared with others and you should keep your access token private."
   ]
  },
  {
   "cell_type": "code",
   "execution_count": 2,
   "id": "80d6cc0e-f2ae-45b6-ab12-dd9362486ffc",
   "metadata": {},
   "outputs": [],
   "source": [
    "from dotenv import load_dotenv"
   ]
  },
  {
   "cell_type": "code",
   "execution_count": 3,
   "id": "4b78c990-5256-434b-9bcb-78bd1374fc6a",
   "metadata": {},
   "outputs": [
    {
     "data": {
      "text/plain": [
       "True"
      ]
     },
     "execution_count": 3,
     "metadata": {},
     "output_type": "execute_result"
    }
   ],
   "source": [
    "load_dotenv(\"../../.env\")  # replace with path to your env file"
   ]
  },
  {
   "cell_type": "markdown",
   "id": "d450035c-7bb4-47e9-b876-8e3564c0a003",
   "metadata": {},
   "source": [
    "## setup cache\n",
    "\n",
    "By default the package will cache genie invocations in a temp file. This would mean that any genies created will be lost once you restart the kernel or rerun the notebook at another time. to keep the cached genies, you can set a custom path where genies would be stored so that you will not lose them when you rerun the notebook.\n",
    "\n",
    "You can modify the cached code if you'd like and those modifications would be loaded the next time you run the code."
   ]
  },
  {
   "cell_type": "code",
   "execution_count": 4,
   "id": "8a18da38-ec68-4ecc-95bc-58c8ecdfda51",
   "metadata": {},
   "outputs": [],
   "source": [
    "from code_genie import set_cache_dir\n",
    "set_cache_dir(\"./_cache_starter\")"
   ]
  },
  {
   "cell_type": "markdown",
   "id": "b3dc2f0a-ca73-41e8-9a50-0672d1a58bc7",
   "metadata": {},
   "source": [
    "## Create data\n",
    "\n",
    "while you should import your own dataset, we can use code-genie to generate the data for this analysis"
   ]
  },
  {
   "cell_type": "code",
   "execution_count": 5,
   "id": "d5bfbd38-e760-468b-8d14-11d18f183da8",
   "metadata": {},
   "outputs": [],
   "source": [
    "from code_genie.genie import Genie, PandasGenie"
   ]
  },
  {
   "cell_type": "code",
   "execution_count": 6,
   "id": "91de25d6-84dd-4019-bfd9-60fe3582d169",
   "metadata": {},
   "outputs": [
    {
     "name": "stdout",
     "output_type": "stream",
     "text": [
      "Loading executor from cache file generate_employee_df_41317.py, set override = True to rerun\n"
     ]
    }
   ],
   "source": [
    "data_gen = Genie(instructions=[\"generate a pandas dataframe containing 100 rows with employee information with following columns:\",\n",
    "                               \"id: random employee id\",\n",
    "                               \"name: employee name\",\n",
    "                               \"salary: salary per annum in USD\",\n",
    "                               \"department: should be either engineering or product\"],\n",
    "                override=False)"
   ]
  },
  {
   "cell_type": "code",
   "execution_count": 7,
   "id": "e7f67149-b53f-4c7f-9b4b-fc7e1972391f",
   "metadata": {},
   "outputs": [
    {
     "data": {
      "text/plain": [
       "(100, 4)"
      ]
     },
     "execution_count": 7,
     "metadata": {},
     "output_type": "execute_result"
    }
   ],
   "source": [
    "df = data_gen()\n",
    "df.shape"
   ]
  },
  {
   "cell_type": "code",
   "execution_count": 8,
   "id": "9c4897c3-19f0-41ba-80c1-57b2b5aef90d",
   "metadata": {},
   "outputs": [
    {
     "data": {
      "text/html": [
       "<div>\n",
       "<style scoped>\n",
       "    .dataframe tbody tr th:only-of-type {\n",
       "        vertical-align: middle;\n",
       "    }\n",
       "\n",
       "    .dataframe tbody tr th {\n",
       "        vertical-align: top;\n",
       "    }\n",
       "\n",
       "    .dataframe thead th {\n",
       "        text-align: right;\n",
       "    }\n",
       "</style>\n",
       "<table border=\"1\" class=\"dataframe\">\n",
       "  <thead>\n",
       "    <tr style=\"text-align: right;\">\n",
       "      <th></th>\n",
       "      <th>id</th>\n",
       "      <th>name</th>\n",
       "      <th>salary</th>\n",
       "      <th>department</th>\n",
       "    </tr>\n",
       "  </thead>\n",
       "  <tbody>\n",
       "    <tr>\n",
       "      <th>0</th>\n",
       "      <td>9853</td>\n",
       "      <td>Employee_1</td>\n",
       "      <td>43446</td>\n",
       "      <td>engineering</td>\n",
       "    </tr>\n",
       "    <tr>\n",
       "      <th>1</th>\n",
       "      <td>2444</td>\n",
       "      <td>Employee_2</td>\n",
       "      <td>142980</td>\n",
       "      <td>engineering</td>\n",
       "    </tr>\n",
       "    <tr>\n",
       "      <th>2</th>\n",
       "      <td>1450</td>\n",
       "      <td>Employee_3</td>\n",
       "      <td>93806</td>\n",
       "      <td>engineering</td>\n",
       "    </tr>\n",
       "    <tr>\n",
       "      <th>3</th>\n",
       "      <td>3799</td>\n",
       "      <td>Employee_4</td>\n",
       "      <td>125635</td>\n",
       "      <td>engineering</td>\n",
       "    </tr>\n",
       "    <tr>\n",
       "      <th>4</th>\n",
       "      <td>3559</td>\n",
       "      <td>Employee_5</td>\n",
       "      <td>105519</td>\n",
       "      <td>engineering</td>\n",
       "    </tr>\n",
       "  </tbody>\n",
       "</table>\n",
       "</div>"
      ],
      "text/plain": [
       "     id        name  salary   department\n",
       "0  9853  Employee_1   43446  engineering\n",
       "1  2444  Employee_2  142980  engineering\n",
       "2  1450  Employee_3   93806  engineering\n",
       "3  3799  Employee_4  125635  engineering\n",
       "4  3559  Employee_5  105519  engineering"
      ]
     },
     "execution_count": 8,
     "metadata": {},
     "output_type": "execute_result"
    }
   ],
   "source": [
    "df.head()"
   ]
  },
  {
   "cell_type": "markdown",
   "id": "08e9d70d-f8eb-43e3-bec5-a549f0c64a90",
   "metadata": {},
   "source": [
    "### add missing values"
   ]
  },
  {
   "cell_type": "code",
   "execution_count": 9,
   "id": "9b04199c-2abe-4de4-a74f-eda4b14f572a",
   "metadata": {},
   "outputs": [
    {
     "name": "stdout",
     "output_type": "stream",
     "text": [
      "Executor saved to cache file make_salaries_missing_76197.py\n"
     ]
    }
   ],
   "source": [
    "data_gen_add_missing = PandasGenie(\"make salaries for around 10% of the employees missing\",\n",
    "                                   columns=list(df.columns))"
   ]
  },
  {
   "cell_type": "code",
   "execution_count": 10,
   "id": "1a408205-c16d-4799-b6a2-1ff0071972cc",
   "metadata": {},
   "outputs": [],
   "source": [
    "df_missing = data_gen_add_missing(df)"
   ]
  },
  {
   "cell_type": "code",
   "execution_count": 12,
   "id": "d47d0c97-f170-4ff5-a011-d975ffebfb2a",
   "metadata": {},
   "outputs": [
    {
     "data": {
      "text/plain": [
       "10"
      ]
     },
     "execution_count": 12,
     "metadata": {},
     "output_type": "execute_result"
    }
   ],
   "source": [
    "df_missing[\"salary\"].isnull().sum()"
   ]
  },
  {
   "cell_type": "markdown",
   "id": "228545bc-062d-4129-9003-15cac860e7bf",
   "metadata": {},
   "source": [
    "## Analyze data"
   ]
  },
  {
   "cell_type": "markdown",
   "id": "ab7cf12a-5fe0-418b-899e-905bb3288ccd",
   "metadata": {},
   "source": [
    "### find number of missing values in each column"
   ]
  },
  {
   "cell_type": "code",
   "execution_count": 13,
   "id": "934df451-afaf-458c-a36c-a0c0277969b2",
   "metadata": {},
   "outputs": [
    {
     "name": "stdout",
     "output_type": "stream",
     "text": [
      "Executor saved to cache file count_missing_35951.py\n"
     ]
    }
   ],
   "source": [
    "num_missing = PandasGenie(\"find number of missing values in each column\")"
   ]
  },
  {
   "cell_type": "code",
   "execution_count": 14,
   "id": "5ad11b01-bffc-45ae-ae68-ce9d971d5c51",
   "metadata": {},
   "outputs": [
    {
     "data": {
      "text/plain": [
       "id             0\n",
       "name           0\n",
       "salary        10\n",
       "department     0\n",
       "dtype: int64"
      ]
     },
     "execution_count": 14,
     "metadata": {},
     "output_type": "execute_result"
    }
   ],
   "source": [
    "num_missing(df_missing)"
   ]
  },
  {
   "cell_type": "markdown",
   "id": "4fb0ba20-a031-452e-a989-7e9a32c62ef8",
   "metadata": {},
   "source": [
    "### plot distribution of salary"
   ]
  },
  {
   "cell_type": "code",
   "execution_count": 15,
   "id": "2b9d7bf3-1638-41e9-a44f-a138f1b4294e",
   "metadata": {},
   "outputs": [
    {
     "name": "stdout",
     "output_type": "stream",
     "text": [
      "Executor saved to cache file plot_salary_distribution_54098.py\n"
     ]
    }
   ],
   "source": [
    "dist_salary = PandasGenie(\"plot distribution of salary, create bins of 10K each\", columns=df_missing.columns)"
   ]
  },
  {
   "cell_type": "code",
   "execution_count": 16,
   "id": "465c1afb-4fa8-4644-8fcf-48c25f44a31b",
   "metadata": {},
   "outputs": [
    {
     "data": {
      "image/png": "[encoded data removed]",
      "text/plain": [
       "<Figure size 640x480 with 1 Axes>"
      ]
     },
     "metadata": {},
     "output_type": "display_data"
    }
   ],
   "source": [
    "dist_salary(df_missing)"
   ]
  },
  {
   "cell_type": "code",
   "execution_count": 17,
   "id": "45559024-5905-43df-a021-19a2d0b77dff",
   "metadata": {},
   "outputs": [
    {
     "name": "stdout",
     "output_type": "stream",
     "text": [
      "Executor saved to cache file make_boxplots_25996.py\n"
     ]
    }
   ],
   "source": [
    "dept_salary = PandasGenie(\"make boxplots of salary grouped by department\", columns=df_missing.columns)"
   ]
  },
  {
   "cell_type": "code",
   "execution_count": 18,
   "id": "637d39d9-c0bf-4a20-89bc-37af671c77cd",
   "metadata": {},
   "outputs": [
    {
     "data": {
      "image/png": "[encoded data removed]",
      "text/plain": [
       "<Figure size 800x500 with 1 Axes>"
      ]
     },
     "metadata": {},
     "output_type": "display_data"
    }
   ],
   "source": [
    "dept_salary(df_missing)"
   ]
  },
  {
   "cell_type": "code",
   "execution_count": 21,
   "id": "538ddd26-4b79-4251-9f40-d8a8fc57673f",
   "metadata": {},
   "outputs": [
    {
     "name": "stdout",
     "output_type": "stream",
     "text": [
      "Loading executor from cache file count_high_earners_86151.py, set override = True to rerun\n"
     ]
    }
   ],
   "source": [
    "dept_100k = PandasGenie(\"how many people in each department make more than 100K?\", columns=df_missing.columns)"
   ]
  },
  {
   "cell_type": "code",
   "execution_count": 22,
   "id": "4e2e88e7-ac81-4710-8b45-cd94d3c44912",
   "metadata": {},
   "outputs": [
    {
     "data": {
      "text/plain": [
       "department\n",
       "engineering    20\n",
       "product        18\n",
       "Name: id, dtype: int64"
      ]
     },
     "execution_count": 22,
     "metadata": {},
     "output_type": "execute_result"
    }
   ],
   "source": [
    "dept_100k(df_missing)"
   ]
  },
  {
   "cell_type": "markdown",
   "id": "c28b9343-8f96-4d99-a664-f7035a237ace",
   "metadata": {},
   "source": [
    "# Inspecting Code\n",
    "\n",
    "All the genies export the generated code to the cache_dir path under individual py files. The exact name of the file used can be found in the log generated on execution. These could be of 2 types:\n",
    "\n",
    "1. `Executor saved to cache file make_boxplots_25996.py`: this will be shown the first time we run this\n",
    "2. `Loading executor from cache file count_high_earners_86151.py, set override = True to rerun`: this will be shown when we run the genie after its cached without setting `override=True`\n",
    "\n",
    "all cached py files for the starter notebook can be found [here](https://github.com/thismlguy/code-genie/tree/main/docs/notebooks/_cache_starter)"
   ]
  },
  {
   "cell_type": "code",
   "execution_count": 24,
   "id": "b09e7679-9cc2-4b21-9d00-726a6035f570",
   "metadata": {},
   "outputs": [
    {
     "name": "stdout",
     "output_type": "stream",
     "text": [
      "import pandas as pd\n",
      "import random\n",
      "\n",
      "def generate_employee_df():\n",
      "    employee_data = {\"id\": [random.randint(1000,9999) for i in range(100)],\n",
      "                     \"name\": [\"Employee_\" + str(i) for i in range(1,101)],\n",
      "                     \"salary\": [random.randint(40000,150000) for i in range(100)],\n",
      "                     \"department\": [\"engineering\" if i<50 else \"product\" for i in range(100)]}\n",
      "    \n",
      "    employee_df = pd.DataFrame(employee_data)\n",
      "    return employee_df\n",
      "\n"
     ]
    }
   ],
   "source": [
    "# the code can be inspected using `code` property:\n",
    "print(data_gen.code)"
   ]
  },
  {
   "cell_type": "code",
   "execution_count": 9,
   "id": "410d75a1-c890-47e2-b09e-0a9c7654c231",
   "metadata": {},
   "outputs": [
    {
     "data": {
      "text/plain": [
       "'generate_employee_df_41317.py'"
      ]
     },
     "execution_count": 9,
     "metadata": {},
     "output_type": "execute_result"
    }
   ],
   "source": [
    "# the filename in which a genie is stored can be found using the `filename` property:\n",
    "data_gen.filename"
   ]
  },
  {
   "cell_type": "code",
   "execution_count": null,
   "id": "7a6435aa-4299-428a-b7df-842a31841e22",
   "metadata": {},
   "outputs": [],
   "source": []
  }
 ],
 "metadata": {
  "kernelspec": {
   "display_name": "code-genie",
   "language": "python",
   "name": "code-genie"
  },
  "language_info": {
   "codemirror_mode": {
    "name": "ipython",
    "version": 3
   },
   "file_extension": ".py",
   "mimetype": "text/x-python",
   "name": "python",
   "nbconvert_exporter": "python",
   "pygments_lexer": "ipython3",
   "version": "3.7.9"
  }
 },
 "nbformat": 4,
 "nbformat_minor": 5
}
