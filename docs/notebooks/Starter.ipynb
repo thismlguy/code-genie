{
 "cells": [
  {
   "cell_type": "code",
   "execution_count": 1,
   "id": "7d9eda1b-110d-4a01-a3b9-57fcb5cd724f",
   "metadata": {},
   "outputs": [],
   "source": [
    "%load_ext autoreload\n",
    "%autoreload 2"
   ]
  },
  {
   "cell_type": "markdown",
   "id": "260d5faf-d4ea-4924-8623-af9ab1544598",
   "metadata": {},
   "source": [
    "# Starter Notebook\n",
    "\n",
    "Use this notebook as a starting point for using the library."
   ]
  },
  {
   "cell_type": "markdown",
   "id": "689a2a37-b0f1-4c0a-afe7-5252f5ccca3e",
   "metadata": {},
   "source": [
    "## setup access token\n",
    "\n",
    "We're using dotenv library here, alternatively you can simply set the environment variable as:\n",
    "```\n",
    "import os\n",
    "os.environ[\"CODE_GENIE_TOKEN\"] = \"your-access-token-here\"\n",
    "```\n",
    "\n",
    "Though it is not recommended to do so as notebooks are typically shared with others and you should keep your access token private."
   ]
  },
  {
   "cell_type": "code",
   "execution_count": 2,
   "id": "80d6cc0e-f2ae-45b6-ab12-dd9362486ffc",
   "metadata": {},
   "outputs": [],
   "source": [
    "from dotenv import load_dotenv"
   ]
  },
  {
   "cell_type": "code",
   "execution_count": 3,
   "id": "4b78c990-5256-434b-9bcb-78bd1374fc6a",
   "metadata": {},
   "outputs": [
    {
     "data": {
      "text/plain": [
       "True"
      ]
     },
     "execution_count": 3,
     "metadata": {},
     "output_type": "execute_result"
    }
   ],
   "source": [
    "load_dotenv(\"../../.env\")  # replace with path to your env file"
   ]
  },
  {
   "cell_type": "markdown",
   "id": "d450035c-7bb4-47e9-b876-8e3564c0a003",
   "metadata": {},
   "source": [
    "## setup cache\n",
    "\n",
    "By default the package will cache genie invocations in a temp file. This would mean that any genies created will be lost once you restart the kernel or rerun the notebook at another time. to keep the cached genies, you can set a custom path where genies would be stored so that you will not lose them when you rerun the notebook.\n",
    "\n",
    "If you would like to disable caching, you can set the option `cache_code` as `False` using the same method as below."
   ]
  },
  {
   "cell_type": "code",
   "execution_count": 4,
   "id": "8a18da38-ec68-4ecc-95bc-58c8ecdfda51",
   "metadata": {},
   "outputs": [],
   "source": [
    "from code_genie import set_options\n",
    "set_options({\"cache_path\": \"./\"})"
   ]
  },
  {
   "cell_type": "markdown",
   "id": "b3dc2f0a-ca73-41e8-9a50-0672d1a58bc7",
   "metadata": {},
   "source": [
    "## Create data\n",
    "\n",
    "while you should import your own dataset, we can use code-genie to generate the data for this analysis"
   ]
  },
  {
   "cell_type": "code",
   "execution_count": 5,
   "id": "d5bfbd38-e760-468b-8d14-11d18f183da8",
   "metadata": {},
   "outputs": [],
   "source": [
    "from code_genie.genie import Genie, PandasGenie"
   ]
  },
  {
   "cell_type": "code",
   "execution_count": 6,
   "id": "91de25d6-84dd-4019-bfd9-60fe3582d169",
   "metadata": {},
   "outputs": [],
   "source": [
    "data_gen = Genie(instructions=[\"generate a pandas dataframe containing 100 rows with employee information with following columns:\",\n",
    "                               \"id: random employee id\",\n",
    "                               \"name: employee name\",\n",
    "                               \"salary: salary per annum in USD\",\n",
    "                               \"department: should be either engineering or product\"],\n",
    "                override=False)"
   ]
  },
  {
   "cell_type": "code",
   "execution_count": 12,
   "id": "ab083033-296c-43ca-b85d-9743163b9c3a",
   "metadata": {},
   "outputs": [
    {
     "name": "stdout",
     "output_type": "stream",
     "text": [
      "import pandas as pd\n",
      "import random\n",
      "\n",
      "def generate_employee_df():\n",
      "    # creating lists for random values\n",
      "    id_list = [i+1 for i in range(100)]\n",
      "    name_list = ['Employee'+str(i+1) for i in range(100)]\n",
      "    salary_list = [random.randint(50000, 200000) for i in range(100)]\n",
      "    department_list = ['engineering' if random.randint(0, 1) else 'product' for i in range(100)]\n",
      "    \n",
      "    # creating dataframe\n",
      "    df = pd.DataFrame({'id': id_list, \n",
      "                       'name': name_list, \n",
      "                       'salary': salary_list, \n",
      "                       'department': department_list})\n",
      "    \n",
      "    return df\n"
     ]
    }
   ],
   "source": [
    "print(data_gen.code)"
   ]
  },
  {
   "cell_type": "code",
   "execution_count": 14,
   "id": "e7f67149-b53f-4c7f-9b4b-fc7e1972391f",
   "metadata": {},
   "outputs": [
    {
     "data": {
      "text/plain": [
       "(100, 4)"
      ]
     },
     "execution_count": 14,
     "metadata": {},
     "output_type": "execute_result"
    }
   ],
   "source": [
    "df = data_gen()\n",
    "df.shape"
   ]
  },
  {
   "cell_type": "code",
   "execution_count": 15,
   "id": "9c4897c3-19f0-41ba-80c1-57b2b5aef90d",
   "metadata": {},
   "outputs": [
    {
     "data": {
      "text/html": [
       "<div>\n",
       "<style scoped>\n",
       "    .dataframe tbody tr th:only-of-type {\n",
       "        vertical-align: middle;\n",
       "    }\n",
       "\n",
       "    .dataframe tbody tr th {\n",
       "        vertical-align: top;\n",
       "    }\n",
       "\n",
       "    .dataframe thead th {\n",
       "        text-align: right;\n",
       "    }\n",
       "</style>\n",
       "<table border=\"1\" class=\"dataframe\">\n",
       "  <thead>\n",
       "    <tr style=\"text-align: right;\">\n",
       "      <th></th>\n",
       "      <th>id</th>\n",
       "      <th>name</th>\n",
       "      <th>salary</th>\n",
       "      <th>department</th>\n",
       "    </tr>\n",
       "  </thead>\n",
       "  <tbody>\n",
       "    <tr>\n",
       "      <th>0</th>\n",
       "      <td>1</td>\n",
       "      <td>Employee1</td>\n",
       "      <td>135263</td>\n",
       "      <td>engineering</td>\n",
       "    </tr>\n",
       "    <tr>\n",
       "      <th>1</th>\n",
       "      <td>2</td>\n",
       "      <td>Employee2</td>\n",
       "      <td>162160</td>\n",
       "      <td>engineering</td>\n",
       "    </tr>\n",
       "    <tr>\n",
       "      <th>2</th>\n",
       "      <td>3</td>\n",
       "      <td>Employee3</td>\n",
       "      <td>199188</td>\n",
       "      <td>product</td>\n",
       "    </tr>\n",
       "    <tr>\n",
       "      <th>3</th>\n",
       "      <td>4</td>\n",
       "      <td>Employee4</td>\n",
       "      <td>79361</td>\n",
       "      <td>engineering</td>\n",
       "    </tr>\n",
       "    <tr>\n",
       "      <th>4</th>\n",
       "      <td>5</td>\n",
       "      <td>Employee5</td>\n",
       "      <td>154289</td>\n",
       "      <td>product</td>\n",
       "    </tr>\n",
       "  </tbody>\n",
       "</table>\n",
       "</div>"
      ],
      "text/plain": [
       "   id       name  salary   department\n",
       "0   1  Employee1  135263  engineering\n",
       "1   2  Employee2  162160  engineering\n",
       "2   3  Employee3  199188      product\n",
       "3   4  Employee4   79361  engineering\n",
       "4   5  Employee5  154289      product"
      ]
     },
     "execution_count": 15,
     "metadata": {},
     "output_type": "execute_result"
    }
   ],
   "source": [
    "df.head()"
   ]
  },
  {
   "cell_type": "markdown",
   "id": "08e9d70d-f8eb-43e3-bec5-a549f0c64a90",
   "metadata": {},
   "source": [
    "### add missing values"
   ]
  },
  {
   "cell_type": "code",
   "execution_count": 9,
   "id": "9b04199c-2abe-4de4-a74f-eda4b14f572a",
   "metadata": {},
   "outputs": [],
   "source": [
    "data_gen_add_missing = PandasGenie(\"make salaries for around 10% of the employees missing\",\n",
    "                                   columns=list(df.columns))"
   ]
  },
  {
   "cell_type": "code",
   "execution_count": 10,
   "id": "89dfcf18-1456-48e4-8564-ac5efc005ec8",
   "metadata": {},
   "outputs": [
    {
     "name": "stdout",
     "output_type": "stream",
     "text": [
      "import numpy as np\n",
      "import pandas as pd\n",
      "\n",
      "def add_missing_salaries(df):\n",
      "    # get 10% of rows as integer\n",
      "    num_missing = int(len(df)*0.1)\n",
      "    # get list of random indices to set to NaN\n",
      "    random_indices = np.random.choice(df.index, num_missing, replace=False)\n",
      "    # set the chosen indices' salaries to NaN\n",
      "    df.loc[random_indices, 'Salary'] = np.nan\n",
      "    # return the updated dataframe\n",
      "    return df\n",
      "\n"
     ]
    }
   ],
   "source": [
    "print(data_gen_add_missing.code)"
   ]
  },
  {
   "cell_type": "code",
   "execution_count": 11,
   "id": "1a408205-c16d-4799-b6a2-1ff0071972cc",
   "metadata": {},
   "outputs": [],
   "source": [
    "df_missing = data_gen_add_missing(df)"
   ]
  },
  {
   "cell_type": "code",
   "execution_count": 13,
   "id": "d47d0c97-f170-4ff5-a011-d975ffebfb2a",
   "metadata": {},
   "outputs": [
    {
     "data": {
      "text/plain": [
       "10"
      ]
     },
     "execution_count": 13,
     "metadata": {},
     "output_type": "execute_result"
    }
   ],
   "source": [
    "df_missing[\"Salary\"].isnull().sum()"
   ]
  },
  {
   "cell_type": "markdown",
   "id": "228545bc-062d-4129-9003-15cac860e7bf",
   "metadata": {},
   "source": [
    "## Analyze data"
   ]
  },
  {
   "cell_type": "markdown",
   "id": "ab7cf12a-5fe0-418b-899e-905bb3288ccd",
   "metadata": {},
   "source": [
    "### find number of missing values in each column"
   ]
  },
  {
   "cell_type": "code",
   "execution_count": 14,
   "id": "934df451-afaf-458c-a36c-a0c0277969b2",
   "metadata": {},
   "outputs": [
    {
     "name": "stdout",
     "output_type": "stream",
     "text": [
      "import pandas as pd\n",
      "\n",
      "def find_missing_values(df):\n",
      "    num_missing = df.isna().sum()\n",
      "    return num_missing\n",
      "\n"
     ]
    }
   ],
   "source": [
    "num_missing = PandasGenie(\"find number of missing values in each column\")\n",
    "print(num_missing.code)"
   ]
  },
  {
   "cell_type": "code",
   "execution_count": 15,
   "id": "5ad11b01-bffc-45ae-ae68-ce9d971d5c51",
   "metadata": {},
   "outputs": [
    {
     "data": {
      "text/plain": [
       "ID             0\n",
       "Name           0\n",
       "Salary        10\n",
       "Department     0\n",
       "dtype: int64"
      ]
     },
     "execution_count": 15,
     "metadata": {},
     "output_type": "execute_result"
    }
   ],
   "source": [
    "num_missing(df_missing)"
   ]
  },
  {
   "cell_type": "markdown",
   "id": "4fb0ba20-a031-452e-a989-7e9a32c62ef8",
   "metadata": {},
   "source": [
    "### plot distribution of salary"
   ]
  },
  {
   "cell_type": "code",
   "execution_count": 21,
   "id": "2b9d7bf3-1638-41e9-a44f-a138f1b4294e",
   "metadata": {},
   "outputs": [],
   "source": [
    "dist_salary = PandasGenie(\"plot distribution of salary, create bins of 10K each\", columns=df_missing.columns)"
   ]
  },
  {
   "cell_type": "code",
   "execution_count": 22,
   "id": "465c1afb-4fa8-4644-8fcf-48c25f44a31b",
   "metadata": {},
   "outputs": [
    {
     "data": {
      "image/png": "[encoded data removed]",
      "text/plain": [
       "<Figure size 1000x600 with 1 Axes>"
      ]
     },
     "metadata": {},
     "output_type": "display_data"
    }
   ],
   "source": [
    "dist_salary(df_missing)"
   ]
  },
  {
   "cell_type": "code",
   "execution_count": 23,
   "id": "45559024-5905-43df-a021-19a2d0b77dff",
   "metadata": {},
   "outputs": [],
   "source": [
    "dept_salary = PandasGenie(\"make boxplots of salary grouped by department\", columns=df_missing.columns)"
   ]
  },
  {
   "cell_type": "code",
   "execution_count": 24,
   "id": "637d39d9-c0bf-4a20-89bc-37af671c77cd",
   "metadata": {},
   "outputs": [
    {
     "data": {
      "image/png": "[encoded data removed]",
      "text/plain": [
       "<Figure size 640x480 with 1 Axes>"
      ]
     },
     "metadata": {},
     "output_type": "display_data"
    }
   ],
   "source": [
    "dept_salary(df_missing)"
   ]
  },
  {
   "cell_type": "code",
   "execution_count": 25,
   "id": "538ddd26-4b79-4251-9f40-d8a8fc57673f",
   "metadata": {},
   "outputs": [],
   "source": [
    "dept_100k = PandasGenie(\"how many people in each department make more than 100K?\", columns=df_missing.columns)"
   ]
  },
  {
   "cell_type": "code",
   "execution_count": 26,
   "id": "4e2e88e7-ac81-4710-8b45-cd94d3c44912",
   "metadata": {},
   "outputs": [
    {
     "data": {
      "text/plain": [
       "Department\n",
       "engineering    34\n",
       "product        33\n",
       "Name: ID, dtype: int64"
      ]
     },
     "execution_count": 26,
     "metadata": {},
     "output_type": "execute_result"
    }
   ],
   "source": [
    "dept_100k(df_missing)"
   ]
  },
  {
   "cell_type": "code",
   "execution_count": null,
   "id": "d18a8f60-fb8a-456d-aa7d-08d50c9276c5",
   "metadata": {},
   "outputs": [],
   "source": []
  }
 ],
 "metadata": {
  "kernelspec": {
   "display_name": "code-genie",
   "language": "python",
   "name": "code-genie"
  },
  "language_info": {
   "codemirror_mode": {
    "name": "ipython",
    "version": 3
   },
   "file_extension": ".py",
   "mimetype": "text/x-python",
   "name": "python",
   "nbconvert_exporter": "python",
   "pygments_lexer": "ipython3",
   "version": "3.7.9"
  }
 },
 "nbformat": 4,
 "nbformat_minor": 5
}